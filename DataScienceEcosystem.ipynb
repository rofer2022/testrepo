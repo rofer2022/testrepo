{
 "cells": [
  {
   "cell_type": "markdown",
   "id": "d046308b",
   "metadata": {},
   "source": [
    "# Data Science Tools and Ecosystem"
   ]
  },
  {
   "cell_type": "markdown",
   "id": "af75c0eb",
   "metadata": {},
   "source": [
    "In this notebook, Data Science Tools and Ecosystem are summarized"
   ]
  },
  {
   "cell_type": "markdown",
   "id": "b0051bc6",
   "metadata": {},
   "source": [
    "Some of the popular languages that Data Scientists use are:\n",
    "1. Python\n",
    "2. R\n",
    "3. SQL\n",
    "4. Scala\n",
    "5. Java\n",
    "6. C++\n",
    "7. Julia"
   ]
  },
  {
   "cell_type": "markdown",
   "id": "e769054a",
   "metadata": {},
   "source": [
    "Some of the commonly used libraries used by Data Scientists include:\n",
    "1. Matplotlib\n",
    "2. Seaborn\n",
    "3. Pandas"
   ]
  },
  {
   "cell_type": "markdown",
   "id": "c86a8c83",
   "metadata": {},
   "source": [
    "|Data Science Tools|\n",
    "--------------------\n",
    "Jupyter Notebooks and JupyterLab\n",
    "RStudio\n",
    "Github"
   ]
  },
  {
   "cell_type": "markdown",
   "id": "d6595e51",
   "metadata": {},
   "source": [
    "### Below are a few examples of evaluating arithmetic expressions in Python"
   ]
  },
  {
   "cell_type": "code",
   "execution_count": 11,
   "id": "2b76c706",
   "metadata": {},
   "outputs": [
    {
     "name": "stdout",
     "output_type": "stream",
     "text": [
      "2\n"
     ]
    }
   ],
   "source": [
    "a=1\n",
    "b=1\n",
    "c=a+b\n",
    "print(c)"
   ]
  },
  {
   "cell_type": "code",
   "execution_count": 14,
   "id": "62cca9eb",
   "metadata": {},
   "outputs": [
    {
     "name": "stdout",
     "output_type": "stream",
     "text": [
      "17\n"
     ]
    }
   ],
   "source": [
    "##This a simple arithmetic expression to mutiply then add integers\n",
    "d = (3*4)+5\n",
    "print(d)"
   ]
  },
  {
   "cell_type": "code",
   "execution_count": 15,
   "id": "969d243a",
   "metadata": {},
   "outputs": [
    {
     "name": "stdout",
     "output_type": "stream",
     "text": [
      "3.3333333333333335\n"
     ]
    }
   ],
   "source": [
    "##This will convert 200 minutes to hours by diving by 60\n",
    "e = 200/60\n",
    "print(e)"
   ]
  },
  {
   "cell_type": "markdown",
   "id": "72ba4461",
   "metadata": {},
   "source": [
    "**Objectives:**\n",
    "- List popular languages for Data Science\n",
    "- Commonly used libraries used by Data Scientists \n",
    "- List of Data Science Tools"
   ]
  },
  {
   "cell_type": "markdown",
   "id": "f3a74015",
   "metadata": {},
   "source": [
    "## Author\n",
    "Rolando Ruba Ferrer"
   ]
  },
  {
   "cell_type": "code",
   "execution_count": null,
   "id": "c384bdfa",
   "metadata": {},
   "outputs": [],
   "source": []
  },
  {
   "cell_type": "code",
   "execution_count": null,
   "id": "875b0e99",
   "metadata": {},
   "outputs": [],
   "source": []
  }
 ],
 "metadata": {
  "kernelspec": {
   "display_name": "Python 3 (ipykernel)",
   "language": "python",
   "name": "python3"
  },
  "language_info": {
   "codemirror_mode": {
    "name": "ipython",
    "version": 3
   },
   "file_extension": ".py",
   "mimetype": "text/x-python",
   "name": "python",
   "nbconvert_exporter": "python",
   "pygments_lexer": "ipython3",
   "version": "3.9.7"
  }
 },
 "nbformat": 4,
 "nbformat_minor": 5
}
